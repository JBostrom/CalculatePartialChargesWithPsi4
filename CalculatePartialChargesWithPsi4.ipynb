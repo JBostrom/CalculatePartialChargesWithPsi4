{
 "cells": [
  {
   "cell_type": "markdown",
   "id": "35f89208",
   "metadata": {},
   "source": [
    "## Calculate (RESP) partial charges with Psi4\n",
    "import the following modules"
   ]
  },
  {
   "cell_type": "code",
   "execution_count": 29,
   "id": "8a7216e0",
   "metadata": {},
   "outputs": [],
   "source": [
    "import os\n",
    "import psi4\n",
    "import resp\n",
    "import openbabel as ob\n",
    "from rdkit import Chem\n",
    "from rdkit.Chem import AllChem"
   ]
  },
  {
   "cell_type": "markdown",
   "id": "f24e5dd6",
   "metadata": {},
   "source": [
    "### some helper functions"
   ]
  },
  {
   "cell_type": "code",
   "execution_count": 30,
   "id": "f3a41da5",
   "metadata": {},
   "outputs": [],
   "source": [
    "def neutralize_atoms(mol):\n",
    "    pattern = Chem.MolFromSmarts(\"[+1!h0!$([*]~[-1,-2,-3,-4]),-1!$([*]~[+1,+2,+3,+4])]\")\n",
    "    at_matches = mol.GetSubstructMatches(pattern)\n",
    "    at_matches_list = [y[0] for y in at_matches]\n",
    "    if len(at_matches_list) > 0:\n",
    "        for at_idx in at_matches_list:\n",
    "            atom = mol.GetAtomWithIdx(at_idx)\n",
    "            chg = atom.GetFormalCharge()\n",
    "            hcount = atom.GetTotalNumHs()\n",
    "            atom.SetFormalCharge(0)\n",
    "            atom.SetNumExplicitHs(hcount - chg)\n",
    "            atom.UpdatePropertyCache()\n",
    "    return mol\n",
    "\n",
    "def cleanUp(psi4out_xyz):\n",
    "    deleteTheseFiles = ['1_default_grid.dat','1_default_grid_esp.dat','grid.dat','timer.dat']\n",
    "    deleteTheseFiles.append(psi4out_xyz)\n",
    "    for fileName in deleteTheseFiles:\n",
    "        if os.path.exists(fileName):\n",
    "            os.remove(fileName)\n",
    "\n",
    "def get_xyz_coords(mol):\n",
    "    if not mol is None:\n",
    "        num_atoms = mol.GetNumAtoms()\n",
    "        xyz_string=\"\"\n",
    "        for counter in range(num_atoms):\n",
    "            pos=mol.GetConformer().GetAtomPosition(counter)\n",
    "            xyz_string = xyz_string + (\"%s %12.6f %12.6f %12.6f\\n\" % (mol.GetAtomWithIdx(counter).GetSymbol(), pos.x, pos.y, pos.z) )\n",
    "    return xyz_string\n",
    "\n",
    "\n",
    "def calcRESPCharges(mol, basisSet, method, gridPsi4 = 1):\n",
    "    options = {'BASIS_ESP': basisSet,\n",
    "               'METHOD_ESP': method,\n",
    "               'RESP_A': 0.0005,\n",
    "               'RESP_B': 0.1,\n",
    "               'VDW_SCALE_FACTORS':[1.4, 1.6, 1.8, 2.0],\n",
    "               'VDW_POINT_DENSITY':int(gridPsi4)\n",
    "    }\n",
    "\n",
    "    resp_charges = resp.resp([mol], [options])[0][1]\n",
    "    return resp_charges\n"
   ]
  },
  {
   "cell_type": "markdown",
   "id": "600335c7",
   "metadata": {},
   "source": [
    "### Set some variables and stuff"
   ]
  },
  {
   "cell_type": "code",
   "execution_count": 32,
   "id": "c8377ee9",
   "metadata": {},
   "outputs": [],
   "source": [
    "method = 'b3lyp'\n",
    "basisSet = '3-21g' #'6-31G**'\n",
    "neutralize = True\n",
    "psi4.set_memory('10 GB')\n",
    "obConversion = ob.OBConversion()\n",
    "obConversion.SetInAndOutFormats(\"xyz\", \"mol2\")\n",
    "singlePoint = True\n",
    "path = \"./data\""
   ]
  },
  {
   "cell_type": "markdown",
   "id": "d1d897f4",
   "metadata": {},
   "source": [
    "### Read sdf file (3D) into a list "
   ]
  },
  {
   "cell_type": "code",
   "execution_count": 24,
   "id": "6242e4c0",
   "metadata": {},
   "outputs": [],
   "source": [
    "inputFile = \"./data/twoCpds.sdf\"\n",
    "molList = Chem.SDMolSupplier(inputFile, removeHs=False)"
   ]
  },
  {
   "cell_type": "markdown",
   "id": "e28dbb09",
   "metadata": {},
   "source": [
    "### ...or read a SMILES files into a list"
   ]
  },
  {
   "cell_type": "code",
   "execution_count": 38,
   "id": "e62a813f",
   "metadata": {},
   "outputs": [],
   "source": [
    "SMILESasInput = False\n",
    "\n",
    "if SMILESasInput:\n",
    "    molList = []\n",
    "    inputFile = \"./data/twoCpds.smi\"\n",
    "    suppl = Chem.SmilesMolSupplier(inputFile, titleLine = False)\n",
    "\n",
    "    for mol in suppl:\n",
    "        mol = Chem.AddHs(mol)\n",
    "        AllChem.EmbedMolecule(mol)\n",
    "        try: \n",
    "            AllChem.MMFFOptimizeMolecule(mol)\n",
    "        except: \n",
    "            AllChem.UFFOptimizeMolecule(mol)            \n",
    "        molList.append(mol)"
   ]
  },
  {
   "cell_type": "markdown",
   "id": "7e6ef19a",
   "metadata": {},
   "source": [
    "### Loop over compounds in list and calculate partial charges"
   ]
  },
  {
   "cell_type": "code",
   "execution_count": 39,
   "id": "08b85251",
   "metadata": {},
   "outputs": [
    {
     "name": "stdout",
     "output_type": "stream",
     "text": [
      "Trying: TXA\n",
      "Running singlepoint...\n",
      "Finished. Saved compound with partial charges as mol2 file: ./data/TXA_partialChgs.mol2\n",
      "Trying: 4piol\n",
      "Running singlepoint...\n",
      "Finished. Saved compound with partial charges as mol2 file: ./data/4piol_partialChgs.mol2\n"
     ]
    }
   ],
   "source": [
    "for mol in molList:\n",
    "    \n",
    "    if not mol is None:\n",
    "\n",
    "        molId = mol.GetProp(\"_Name\")\n",
    "        print('Trying:', molId)\n",
    "        \n",
    "        if neutralize:\n",
    "            mol = neutralize_atoms(mol)\n",
    "            mol = Chem.AddHs(mol)\n",
    "\n",
    "        xyz_string = get_xyz_coords(mol) \n",
    "        psi_mol = psi4.geometry(xyz_string)\n",
    "\n",
    "        ### single point calculation\n",
    "        outfile_mol2 = inputFile[:-4]+\".mol2\"\n",
    "\n",
    "        if singlePoint:\n",
    "            print('Running singlepoint...')\n",
    "            resp_charges = calcRESPCharges(psi_mol, basisSet, method, gridPsi4 = 1)\n",
    "\n",
    "        else:\n",
    "            print('Running geometry optimization...')            \n",
    "            methodNbasisSet = method+\"/\"+basisSet\n",
    "            psi4.optimize(methodNbasisSet, molecule=psi_mol)\n",
    "            resp_charges = calcRESPCharges(psi_mol, basisSet, method, gridPsi4 = 1)            \n",
    "\n",
    "        ### save coords to xyz file \n",
    "        psi4out_xyz = molId + '.xyz'\n",
    "        psi_mol.save_xyz_file(psi4out_xyz,1)\n",
    "\n",
    "        ### read xyz file and write as mol2 \n",
    "        ob_mol = ob.OBMol()\n",
    "        obConversion.ReadFile(ob_mol, psi4out_xyz)\n",
    "\n",
    "        ### set new partial charges\n",
    "        count = 0\n",
    "        for atom in ob.OBMolAtomIter(ob_mol):\n",
    "            newChg = resp_charges[count]\n",
    "            atom.SetPartialCharge(newChg)\n",
    "            count += 1\n",
    "\n",
    "        ### write as mol2 \n",
    "        outfile_mol2 = path+\"/\"+molId+\"_partialChgs.mol2\"\n",
    "        print(\"Finished. Saved compound with partial charges as mol2 file: %s\" % outfile_mol2)\n",
    "        obConversion.WriteFile(ob_mol, outfile_mol2)\n",
    "\n",
    "        ### clean up\n",
    "        cleanUp(psi4out_xyz)\n"
   ]
  },
  {
   "cell_type": "code",
   "execution_count": null,
   "id": "6e8a669d",
   "metadata": {},
   "outputs": [],
   "source": []
  }
 ],
 "metadata": {
  "kernelspec": {
   "display_name": "Python 3",
   "language": "python",
   "name": "python3"
  },
  "language_info": {
   "codemirror_mode": {
    "name": "ipython",
    "version": 3
   },
   "file_extension": ".py",
   "mimetype": "text/x-python",
   "name": "python",
   "nbconvert_exporter": "python",
   "pygments_lexer": "ipython3",
   "version": "3.7.10"
  }
 },
 "nbformat": 4,
 "nbformat_minor": 5
}
